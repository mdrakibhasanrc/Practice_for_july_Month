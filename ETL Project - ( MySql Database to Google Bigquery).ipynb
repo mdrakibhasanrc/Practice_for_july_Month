{
 "cells": [
  {
   "cell_type": "markdown",
   "id": "d3391e90",
   "metadata": {},
   "source": [
    "# Project Name: Balanced Tree Clothing Company Data Tranasfer Mysql Database to Google Bigquery for Analysis Purpose."
   ]
  },
  {
   "cell_type": "markdown",
   "id": "4f081554",
   "metadata": {},
   "source": [
    "Introduction:Balanced Tree Clothing Company prides themselves on providing an optimised range of clothing and lifestyle wear for the modern adventurer!\n",
    "\n",
    "Danny, the CEO of this trendy fashion company has asked you to assist the team’s merchandising teams analyse their sales performance and generate a basic financial report to share with the wider business."
   ]
  },
  {
   "cell_type": "markdown",
   "id": "6ffdc7bd",
   "metadata": {},
   "source": [
    "Available Data: \n",
    "For this case study there is a total of 4 datasets for this case study - however you will only need to utilise 2 main tables to solve all of the regular questions, and the additional 2 tables are used only for the bonus challenge question!"
   ]
  },
  {
   "cell_type": "markdown",
   "id": "52e01c03",
   "metadata": {},
   "source": [
    "# Import library:"
   ]
  },
  {
   "cell_type": "code",
   "execution_count": 1,
   "id": "da8b30d5",
   "metadata": {},
   "outputs": [],
   "source": [
    "import numpy as np\n",
    "import pandas as pd\n",
    "import pymysql\n",
    "import mysql.connector"
   ]
  },
  {
   "cell_type": "markdown",
   "id": "849d647b",
   "metadata": {},
   "source": [
    "# MySql Database Connection "
   ]
  },
  {
   "cell_type": "code",
   "execution_count": 2,
   "id": "eabc2813",
   "metadata": {},
   "outputs": [],
   "source": [
    "cnx=mysql.connector.connect(user='root',password='root',host='localhost',database='clothing_company')"
   ]
  },
  {
   "cell_type": "markdown",
   "id": "b364bf26",
   "metadata": {},
   "source": [
    "# Data Query and Some Data Tranasform"
   ]
  },
  {
   "cell_type": "markdown",
   "id": "71590678",
   "metadata": {},
   "source": [
    "### product_details table"
   ]
  },
  {
   "cell_type": "code",
   "execution_count": null,
   "id": "1c93df1b",
   "metadata": {},
   "outputs": [],
   "source": [
    "query1=\"\"\" select * from product_details\"\"\""
   ]
  },
  {
   "cell_type": "code",
   "execution_count": null,
   "id": "9ecb8fc9",
   "metadata": {},
   "outputs": [],
   "source": [
    "product_details=pd.read_sql(query1,cnx)"
   ]
  },
  {
   "cell_type": "code",
   "execution_count": 13,
   "id": "1745c42f",
   "metadata": {},
   "outputs": [
    {
     "data": {
      "text/html": [
       "<div>\n",
       "<style scoped>\n",
       "    .dataframe tbody tr th:only-of-type {\n",
       "        vertical-align: middle;\n",
       "    }\n",
       "\n",
       "    .dataframe tbody tr th {\n",
       "        vertical-align: top;\n",
       "    }\n",
       "\n",
       "    .dataframe thead th {\n",
       "        text-align: right;\n",
       "    }\n",
       "</style>\n",
       "<table border=\"1\" class=\"dataframe\">\n",
       "  <thead>\n",
       "    <tr style=\"text-align: right;\">\n",
       "      <th></th>\n",
       "      <th>product_id</th>\n",
       "      <th>price</th>\n",
       "      <th>product_name</th>\n",
       "      <th>category_id</th>\n",
       "      <th>segment_id</th>\n",
       "      <th>style_id</th>\n",
       "      <th>category_name</th>\n",
       "      <th>segment_name</th>\n",
       "      <th>style_name</th>\n",
       "    </tr>\n",
       "  </thead>\n",
       "  <tbody>\n",
       "    <tr>\n",
       "      <th>0</th>\n",
       "      <td>c4a632</td>\n",
       "      <td>13</td>\n",
       "      <td>Navy Oversized Jeans - Womens</td>\n",
       "      <td>1</td>\n",
       "      <td>3</td>\n",
       "      <td>7</td>\n",
       "      <td>Womens</td>\n",
       "      <td>Jeans</td>\n",
       "      <td>Navy Oversized</td>\n",
       "    </tr>\n",
       "    <tr>\n",
       "      <th>1</th>\n",
       "      <td>e83aa3</td>\n",
       "      <td>32</td>\n",
       "      <td>Black Straight Jeans - Womens</td>\n",
       "      <td>1</td>\n",
       "      <td>3</td>\n",
       "      <td>8</td>\n",
       "      <td>Womens</td>\n",
       "      <td>Jeans</td>\n",
       "      <td>Black Straight</td>\n",
       "    </tr>\n",
       "    <tr>\n",
       "      <th>2</th>\n",
       "      <td>e31d39</td>\n",
       "      <td>10</td>\n",
       "      <td>Cream Relaxed Jeans - Womens</td>\n",
       "      <td>1</td>\n",
       "      <td>3</td>\n",
       "      <td>9</td>\n",
       "      <td>Womens</td>\n",
       "      <td>Jeans</td>\n",
       "      <td>Cream Relaxed</td>\n",
       "    </tr>\n",
       "    <tr>\n",
       "      <th>3</th>\n",
       "      <td>d5e9a6</td>\n",
       "      <td>23</td>\n",
       "      <td>Khaki Suit Jacket - Womens</td>\n",
       "      <td>1</td>\n",
       "      <td>4</td>\n",
       "      <td>10</td>\n",
       "      <td>Womens</td>\n",
       "      <td>Jacket</td>\n",
       "      <td>Khaki Suit</td>\n",
       "    </tr>\n",
       "    <tr>\n",
       "      <th>4</th>\n",
       "      <td>72f5d4</td>\n",
       "      <td>19</td>\n",
       "      <td>Indigo Rain Jacket - Womens</td>\n",
       "      <td>1</td>\n",
       "      <td>4</td>\n",
       "      <td>11</td>\n",
       "      <td>Womens</td>\n",
       "      <td>Jacket</td>\n",
       "      <td>Indigo Rain</td>\n",
       "    </tr>\n",
       "  </tbody>\n",
       "</table>\n",
       "</div>"
      ],
      "text/plain": [
       "  product_id  price                   product_name  category_id  segment_id  \\\n",
       "0     c4a632     13  Navy Oversized Jeans - Womens            1           3   \n",
       "1     e83aa3     32  Black Straight Jeans - Womens            1           3   \n",
       "2     e31d39     10   Cream Relaxed Jeans - Womens            1           3   \n",
       "3     d5e9a6     23     Khaki Suit Jacket - Womens            1           4   \n",
       "4     72f5d4     19    Indigo Rain Jacket - Womens            1           4   \n",
       "\n",
       "   style_id category_name segment_name      style_name  \n",
       "0         7        Womens        Jeans  Navy Oversized  \n",
       "1         8        Womens        Jeans  Black Straight  \n",
       "2         9        Womens        Jeans   Cream Relaxed  \n",
       "3        10        Womens       Jacket      Khaki Suit  \n",
       "4        11        Womens       Jacket     Indigo Rain  "
      ]
     },
     "execution_count": 13,
     "metadata": {},
     "output_type": "execute_result"
    }
   ],
   "source": [
    "product_details.head(5)"
   ]
  },
  {
   "cell_type": "code",
   "execution_count": 17,
   "id": "ef32e9c0",
   "metadata": {},
   "outputs": [
    {
     "data": {
      "text/plain": [
       "0"
      ]
     },
     "execution_count": 17,
     "metadata": {},
     "output_type": "execute_result"
    }
   ],
   "source": [
    "product_details.duplicated().sum()"
   ]
  },
  {
   "cell_type": "code",
   "execution_count": 18,
   "id": "792b5cc3",
   "metadata": {},
   "outputs": [
    {
     "data": {
      "text/plain": [
       "product_id       0\n",
       "price            0\n",
       "product_name     0\n",
       "category_id      0\n",
       "segment_id       0\n",
       "style_id         0\n",
       "category_name    0\n",
       "segment_name     0\n",
       "style_name       0\n",
       "dtype: int64"
      ]
     },
     "execution_count": 18,
     "metadata": {},
     "output_type": "execute_result"
    }
   ],
   "source": [
    "product_details.isnull().sum()"
   ]
  },
  {
   "cell_type": "markdown",
   "id": "6ce35384",
   "metadata": {},
   "source": [
    "### product_hierarchy table"
   ]
  },
  {
   "cell_type": "code",
   "execution_count": null,
   "id": "ceb5acb9",
   "metadata": {},
   "outputs": [],
   "source": [
    "query2=\"\"\" select * from product_hierarchy\"\"\""
   ]
  },
  {
   "cell_type": "code",
   "execution_count": null,
   "id": "129eacab",
   "metadata": {},
   "outputs": [],
   "source": [
    "product_hierarchy=pd.read_sql(query2,cnx)"
   ]
  },
  {
   "cell_type": "code",
   "execution_count": 14,
   "id": "20cbd38d",
   "metadata": {},
   "outputs": [
    {
     "data": {
      "text/html": [
       "<div>\n",
       "<style scoped>\n",
       "    .dataframe tbody tr th:only-of-type {\n",
       "        vertical-align: middle;\n",
       "    }\n",
       "\n",
       "    .dataframe tbody tr th {\n",
       "        vertical-align: top;\n",
       "    }\n",
       "\n",
       "    .dataframe thead th {\n",
       "        text-align: right;\n",
       "    }\n",
       "</style>\n",
       "<table border=\"1\" class=\"dataframe\">\n",
       "  <thead>\n",
       "    <tr style=\"text-align: right;\">\n",
       "      <th></th>\n",
       "      <th>id</th>\n",
       "      <th>parent_id</th>\n",
       "      <th>level_text</th>\n",
       "      <th>level_name</th>\n",
       "    </tr>\n",
       "  </thead>\n",
       "  <tbody>\n",
       "    <tr>\n",
       "      <th>0</th>\n",
       "      <td>1</td>\n",
       "      <td>NaN</td>\n",
       "      <td>Womens</td>\n",
       "      <td>Category</td>\n",
       "    </tr>\n",
       "    <tr>\n",
       "      <th>1</th>\n",
       "      <td>2</td>\n",
       "      <td>NaN</td>\n",
       "      <td>Mens</td>\n",
       "      <td>Category</td>\n",
       "    </tr>\n",
       "    <tr>\n",
       "      <th>2</th>\n",
       "      <td>3</td>\n",
       "      <td>1.0</td>\n",
       "      <td>Jeans</td>\n",
       "      <td>Segment</td>\n",
       "    </tr>\n",
       "    <tr>\n",
       "      <th>3</th>\n",
       "      <td>4</td>\n",
       "      <td>1.0</td>\n",
       "      <td>Jacket</td>\n",
       "      <td>Segment</td>\n",
       "    </tr>\n",
       "    <tr>\n",
       "      <th>4</th>\n",
       "      <td>5</td>\n",
       "      <td>2.0</td>\n",
       "      <td>Shirt</td>\n",
       "      <td>Segment</td>\n",
       "    </tr>\n",
       "  </tbody>\n",
       "</table>\n",
       "</div>"
      ],
      "text/plain": [
       "   id  parent_id level_text level_name\n",
       "0   1        NaN     Womens   Category\n",
       "1   2        NaN       Mens   Category\n",
       "2   3        1.0      Jeans    Segment\n",
       "3   4        1.0     Jacket    Segment\n",
       "4   5        2.0      Shirt    Segment"
      ]
     },
     "execution_count": 14,
     "metadata": {},
     "output_type": "execute_result"
    }
   ],
   "source": [
    "product_hierarchy.head(5)"
   ]
  },
  {
   "cell_type": "code",
   "execution_count": 19,
   "id": "479b424a",
   "metadata": {},
   "outputs": [
    {
     "data": {
      "text/plain": [
       "0"
      ]
     },
     "execution_count": 19,
     "metadata": {},
     "output_type": "execute_result"
    }
   ],
   "source": [
    "product_hierarchy.duplicated().sum()"
   ]
  },
  {
   "cell_type": "code",
   "execution_count": 20,
   "id": "2baf37d0",
   "metadata": {},
   "outputs": [
    {
     "data": {
      "text/plain": [
       "id            0\n",
       "parent_id     2\n",
       "level_text    0\n",
       "level_name    0\n",
       "dtype: int64"
      ]
     },
     "execution_count": 20,
     "metadata": {},
     "output_type": "execute_result"
    }
   ],
   "source": [
    "product_hierarchy.isnull().sum()"
   ]
  },
  {
   "cell_type": "code",
   "execution_count": 23,
   "id": "1ce07972",
   "metadata": {},
   "outputs": [],
   "source": [
    "product_hierarchy=product_hierarchy.dropna()"
   ]
  },
  {
   "cell_type": "code",
   "execution_count": 24,
   "id": "a6b3e229",
   "metadata": {},
   "outputs": [
    {
     "data": {
      "text/plain": [
       "id            0\n",
       "parent_id     0\n",
       "level_text    0\n",
       "level_name    0\n",
       "dtype: int64"
      ]
     },
     "execution_count": 24,
     "metadata": {},
     "output_type": "execute_result"
    }
   ],
   "source": [
    "product_hierarchy.isnull().sum()"
   ]
  },
  {
   "cell_type": "markdown",
   "id": "385b3982",
   "metadata": {},
   "source": [
    "### product_prices table"
   ]
  },
  {
   "cell_type": "code",
   "execution_count": null,
   "id": "0cf95e59",
   "metadata": {},
   "outputs": [],
   "source": [
    "query3=\"\"\" select * from product_prices\"\"\""
   ]
  },
  {
   "cell_type": "code",
   "execution_count": null,
   "id": "c3e79b78",
   "metadata": {},
   "outputs": [],
   "source": [
    "product_prices=pd.read_sql(query3,cnx)"
   ]
  },
  {
   "cell_type": "code",
   "execution_count": 15,
   "id": "8d6af7ca",
   "metadata": {},
   "outputs": [
    {
     "data": {
      "text/html": [
       "<div>\n",
       "<style scoped>\n",
       "    .dataframe tbody tr th:only-of-type {\n",
       "        vertical-align: middle;\n",
       "    }\n",
       "\n",
       "    .dataframe tbody tr th {\n",
       "        vertical-align: top;\n",
       "    }\n",
       "\n",
       "    .dataframe thead th {\n",
       "        text-align: right;\n",
       "    }\n",
       "</style>\n",
       "<table border=\"1\" class=\"dataframe\">\n",
       "  <thead>\n",
       "    <tr style=\"text-align: right;\">\n",
       "      <th></th>\n",
       "      <th>id</th>\n",
       "      <th>product_id</th>\n",
       "      <th>price</th>\n",
       "    </tr>\n",
       "  </thead>\n",
       "  <tbody>\n",
       "    <tr>\n",
       "      <th>0</th>\n",
       "      <td>7</td>\n",
       "      <td>c4a632</td>\n",
       "      <td>13</td>\n",
       "    </tr>\n",
       "    <tr>\n",
       "      <th>1</th>\n",
       "      <td>8</td>\n",
       "      <td>e83aa3</td>\n",
       "      <td>32</td>\n",
       "    </tr>\n",
       "    <tr>\n",
       "      <th>2</th>\n",
       "      <td>9</td>\n",
       "      <td>e31d39</td>\n",
       "      <td>10</td>\n",
       "    </tr>\n",
       "    <tr>\n",
       "      <th>3</th>\n",
       "      <td>10</td>\n",
       "      <td>d5e9a6</td>\n",
       "      <td>23</td>\n",
       "    </tr>\n",
       "    <tr>\n",
       "      <th>4</th>\n",
       "      <td>11</td>\n",
       "      <td>72f5d4</td>\n",
       "      <td>19</td>\n",
       "    </tr>\n",
       "  </tbody>\n",
       "</table>\n",
       "</div>"
      ],
      "text/plain": [
       "   id product_id  price\n",
       "0   7     c4a632     13\n",
       "1   8     e83aa3     32\n",
       "2   9     e31d39     10\n",
       "3  10     d5e9a6     23\n",
       "4  11     72f5d4     19"
      ]
     },
     "execution_count": 15,
     "metadata": {},
     "output_type": "execute_result"
    }
   ],
   "source": [
    "product_prices.head(5)"
   ]
  },
  {
   "cell_type": "code",
   "execution_count": 25,
   "id": "353e8781",
   "metadata": {},
   "outputs": [
    {
     "data": {
      "text/plain": [
       "0"
      ]
     },
     "execution_count": 25,
     "metadata": {},
     "output_type": "execute_result"
    }
   ],
   "source": [
    "product_prices.duplicated().sum()"
   ]
  },
  {
   "cell_type": "code",
   "execution_count": 26,
   "id": "d3340908",
   "metadata": {},
   "outputs": [
    {
     "data": {
      "text/plain": [
       "id            0\n",
       "product_id    0\n",
       "price         0\n",
       "dtype: int64"
      ]
     },
     "execution_count": 26,
     "metadata": {},
     "output_type": "execute_result"
    }
   ],
   "source": [
    "product_prices.isnull().sum()"
   ]
  },
  {
   "cell_type": "markdown",
   "id": "0743b50f",
   "metadata": {},
   "source": [
    "### sales table"
   ]
  },
  {
   "cell_type": "code",
   "execution_count": null,
   "id": "4c6607d8",
   "metadata": {},
   "outputs": [],
   "source": [
    "query4=\"\"\" select * from saless\"\"\""
   ]
  },
  {
   "cell_type": "code",
   "execution_count": null,
   "id": "ca2de7d3",
   "metadata": {},
   "outputs": [],
   "source": [
    "sales=pd.read_sql(query4,cnx)"
   ]
  },
  {
   "cell_type": "code",
   "execution_count": 16,
   "id": "6c3da7ac",
   "metadata": {},
   "outputs": [
    {
     "data": {
      "text/html": [
       "<div>\n",
       "<style scoped>\n",
       "    .dataframe tbody tr th:only-of-type {\n",
       "        vertical-align: middle;\n",
       "    }\n",
       "\n",
       "    .dataframe tbody tr th {\n",
       "        vertical-align: top;\n",
       "    }\n",
       "\n",
       "    .dataframe thead th {\n",
       "        text-align: right;\n",
       "    }\n",
       "</style>\n",
       "<table border=\"1\" class=\"dataframe\">\n",
       "  <thead>\n",
       "    <tr style=\"text-align: right;\">\n",
       "      <th></th>\n",
       "      <th>prod_id</th>\n",
       "      <th>qty</th>\n",
       "      <th>price</th>\n",
       "      <th>discount</th>\n",
       "      <th>member</th>\n",
       "      <th>txn_id</th>\n",
       "      <th>start_txn_time</th>\n",
       "    </tr>\n",
       "  </thead>\n",
       "  <tbody>\n",
       "    <tr>\n",
       "      <th>0</th>\n",
       "      <td>c4a632</td>\n",
       "      <td>4</td>\n",
       "      <td>13</td>\n",
       "      <td>17</td>\n",
       "      <td>t</td>\n",
       "      <td>54f307</td>\n",
       "      <td>2021-02-13 01:59:43</td>\n",
       "    </tr>\n",
       "    <tr>\n",
       "      <th>1</th>\n",
       "      <td>5d267b</td>\n",
       "      <td>4</td>\n",
       "      <td>40</td>\n",
       "      <td>17</td>\n",
       "      <td>t</td>\n",
       "      <td>54f307</td>\n",
       "      <td>2021-02-13 01:59:43</td>\n",
       "    </tr>\n",
       "    <tr>\n",
       "      <th>2</th>\n",
       "      <td>b9a74d</td>\n",
       "      <td>4</td>\n",
       "      <td>17</td>\n",
       "      <td>17</td>\n",
       "      <td>t</td>\n",
       "      <td>54f307</td>\n",
       "      <td>2021-02-13 01:59:43</td>\n",
       "    </tr>\n",
       "    <tr>\n",
       "      <th>3</th>\n",
       "      <td>2feb6b</td>\n",
       "      <td>2</td>\n",
       "      <td>29</td>\n",
       "      <td>17</td>\n",
       "      <td>t</td>\n",
       "      <td>54f307</td>\n",
       "      <td>2021-02-13 01:59:43</td>\n",
       "    </tr>\n",
       "    <tr>\n",
       "      <th>4</th>\n",
       "      <td>c4a632</td>\n",
       "      <td>5</td>\n",
       "      <td>13</td>\n",
       "      <td>21</td>\n",
       "      <td>t</td>\n",
       "      <td>26cc98</td>\n",
       "      <td>2021-01-19 01:39:00</td>\n",
       "    </tr>\n",
       "  </tbody>\n",
       "</table>\n",
       "</div>"
      ],
      "text/plain": [
       "  prod_id  qty  price  discount member  txn_id      start_txn_time\n",
       "0  c4a632    4     13        17      t  54f307 2021-02-13 01:59:43\n",
       "1  5d267b    4     40        17      t  54f307 2021-02-13 01:59:43\n",
       "2  b9a74d    4     17        17      t  54f307 2021-02-13 01:59:43\n",
       "3  2feb6b    2     29        17      t  54f307 2021-02-13 01:59:43\n",
       "4  c4a632    5     13        21      t  26cc98 2021-01-19 01:39:00"
      ]
     },
     "execution_count": 16,
     "metadata": {},
     "output_type": "execute_result"
    }
   ],
   "source": [
    "sales.head(5)"
   ]
  },
  {
   "cell_type": "code",
   "execution_count": 27,
   "id": "8ec3abe5",
   "metadata": {},
   "outputs": [
    {
     "data": {
      "text/plain": [
       "0"
      ]
     },
     "execution_count": 27,
     "metadata": {},
     "output_type": "execute_result"
    }
   ],
   "source": [
    "sales.duplicated().sum()"
   ]
  },
  {
   "cell_type": "code",
   "execution_count": 28,
   "id": "7efea395",
   "metadata": {},
   "outputs": [
    {
     "data": {
      "text/plain": [
       "prod_id           0\n",
       "qty               0\n",
       "price             0\n",
       "discount          0\n",
       "member            0\n",
       "txn_id            0\n",
       "start_txn_time    0\n",
       "dtype: int64"
      ]
     },
     "execution_count": 28,
     "metadata": {},
     "output_type": "execute_result"
    }
   ],
   "source": [
    "sales.isnull().sum()"
   ]
  },
  {
   "cell_type": "code",
   "execution_count": 29,
   "id": "7cffea09",
   "metadata": {},
   "outputs": [],
   "source": [
    "sales['start_txn_time']=pd.to_datetime(sales['start_txn_time'])"
   ]
  },
  {
   "cell_type": "code",
   "execution_count": 34,
   "id": "7ed755c7",
   "metadata": {},
   "outputs": [],
   "source": [
    "sales['Year']=sales['start_txn_time'].dt.year\n",
    "sales['month']=sales['start_txn_time'].dt.month\n",
    "sales['month_name']=sales['start_txn_time'].dt.month_name()\n",
    "sales['Day']=sales['start_txn_time'].dt.day\n",
    "sales['Day_Name']=sales['start_txn_time'].dt.day_name()\n",
    "sales['Hour']=sales['start_txn_time'].dt.hour"
   ]
  },
  {
   "cell_type": "code",
   "execution_count": 36,
   "id": "90ba0af5",
   "metadata": {},
   "outputs": [],
   "source": [
    "sales['revenue']=sales['qty']*sales['price']"
   ]
  },
  {
   "cell_type": "code",
   "execution_count": 39,
   "id": "3616c156",
   "metadata": {},
   "outputs": [],
   "source": [
    "sales.rename(columns={'prod_id':'product_id'},inplace=True)"
   ]
  },
  {
   "cell_type": "code",
   "execution_count": 40,
   "id": "6a74dd99",
   "metadata": {},
   "outputs": [
    {
     "data": {
      "text/html": [
       "<div>\n",
       "<style scoped>\n",
       "    .dataframe tbody tr th:only-of-type {\n",
       "        vertical-align: middle;\n",
       "    }\n",
       "\n",
       "    .dataframe tbody tr th {\n",
       "        vertical-align: top;\n",
       "    }\n",
       "\n",
       "    .dataframe thead th {\n",
       "        text-align: right;\n",
       "    }\n",
       "</style>\n",
       "<table border=\"1\" class=\"dataframe\">\n",
       "  <thead>\n",
       "    <tr style=\"text-align: right;\">\n",
       "      <th></th>\n",
       "      <th>product_id</th>\n",
       "      <th>qty</th>\n",
       "      <th>price</th>\n",
       "      <th>discount</th>\n",
       "      <th>member</th>\n",
       "      <th>txn_id</th>\n",
       "      <th>start_txn_time</th>\n",
       "      <th>Year</th>\n",
       "      <th>month</th>\n",
       "      <th>month_name</th>\n",
       "      <th>Day</th>\n",
       "      <th>Day_Name</th>\n",
       "      <th>Hour</th>\n",
       "      <th>revenue</th>\n",
       "    </tr>\n",
       "  </thead>\n",
       "  <tbody>\n",
       "    <tr>\n",
       "      <th>0</th>\n",
       "      <td>c4a632</td>\n",
       "      <td>4</td>\n",
       "      <td>13</td>\n",
       "      <td>17</td>\n",
       "      <td>t</td>\n",
       "      <td>54f307</td>\n",
       "      <td>2021-02-13 01:59:43</td>\n",
       "      <td>2021</td>\n",
       "      <td>2</td>\n",
       "      <td>February</td>\n",
       "      <td>13</td>\n",
       "      <td>Saturday</td>\n",
       "      <td>1</td>\n",
       "      <td>52</td>\n",
       "    </tr>\n",
       "    <tr>\n",
       "      <th>1</th>\n",
       "      <td>5d267b</td>\n",
       "      <td>4</td>\n",
       "      <td>40</td>\n",
       "      <td>17</td>\n",
       "      <td>t</td>\n",
       "      <td>54f307</td>\n",
       "      <td>2021-02-13 01:59:43</td>\n",
       "      <td>2021</td>\n",
       "      <td>2</td>\n",
       "      <td>February</td>\n",
       "      <td>13</td>\n",
       "      <td>Saturday</td>\n",
       "      <td>1</td>\n",
       "      <td>160</td>\n",
       "    </tr>\n",
       "    <tr>\n",
       "      <th>2</th>\n",
       "      <td>b9a74d</td>\n",
       "      <td>4</td>\n",
       "      <td>17</td>\n",
       "      <td>17</td>\n",
       "      <td>t</td>\n",
       "      <td>54f307</td>\n",
       "      <td>2021-02-13 01:59:43</td>\n",
       "      <td>2021</td>\n",
       "      <td>2</td>\n",
       "      <td>February</td>\n",
       "      <td>13</td>\n",
       "      <td>Saturday</td>\n",
       "      <td>1</td>\n",
       "      <td>68</td>\n",
       "    </tr>\n",
       "    <tr>\n",
       "      <th>3</th>\n",
       "      <td>2feb6b</td>\n",
       "      <td>2</td>\n",
       "      <td>29</td>\n",
       "      <td>17</td>\n",
       "      <td>t</td>\n",
       "      <td>54f307</td>\n",
       "      <td>2021-02-13 01:59:43</td>\n",
       "      <td>2021</td>\n",
       "      <td>2</td>\n",
       "      <td>February</td>\n",
       "      <td>13</td>\n",
       "      <td>Saturday</td>\n",
       "      <td>1</td>\n",
       "      <td>58</td>\n",
       "    </tr>\n",
       "    <tr>\n",
       "      <th>4</th>\n",
       "      <td>c4a632</td>\n",
       "      <td>5</td>\n",
       "      <td>13</td>\n",
       "      <td>21</td>\n",
       "      <td>t</td>\n",
       "      <td>26cc98</td>\n",
       "      <td>2021-01-19 01:39:00</td>\n",
       "      <td>2021</td>\n",
       "      <td>1</td>\n",
       "      <td>January</td>\n",
       "      <td>19</td>\n",
       "      <td>Tuesday</td>\n",
       "      <td>1</td>\n",
       "      <td>65</td>\n",
       "    </tr>\n",
       "  </tbody>\n",
       "</table>\n",
       "</div>"
      ],
      "text/plain": [
       "  product_id  qty  price  discount member  txn_id      start_txn_time  Year  \\\n",
       "0     c4a632    4     13        17      t  54f307 2021-02-13 01:59:43  2021   \n",
       "1     5d267b    4     40        17      t  54f307 2021-02-13 01:59:43  2021   \n",
       "2     b9a74d    4     17        17      t  54f307 2021-02-13 01:59:43  2021   \n",
       "3     2feb6b    2     29        17      t  54f307 2021-02-13 01:59:43  2021   \n",
       "4     c4a632    5     13        21      t  26cc98 2021-01-19 01:39:00  2021   \n",
       "\n",
       "   month month_name  Day  Day_Name  Hour  revenue  \n",
       "0      2   February   13  Saturday     1       52  \n",
       "1      2   February   13  Saturday     1      160  \n",
       "2      2   February   13  Saturday     1       68  \n",
       "3      2   February   13  Saturday     1       58  \n",
       "4      1    January   19   Tuesday     1       65  "
      ]
     },
     "execution_count": 40,
     "metadata": {},
     "output_type": "execute_result"
    }
   ],
   "source": [
    "sales.head(5)"
   ]
  },
  {
   "cell_type": "markdown",
   "id": "a4416e00",
   "metadata": {},
   "source": [
    "## Merge Data "
   ]
  },
  {
   "cell_type": "code",
   "execution_count": 41,
   "id": "6d48ae3a",
   "metadata": {},
   "outputs": [],
   "source": [
    "df1=pd.merge(product_details,sales,how='left',on='product_id')"
   ]
  },
  {
   "cell_type": "markdown",
   "id": "01cae64d",
   "metadata": {},
   "source": [
    "# Export Data Google Bigquery"
   ]
  },
  {
   "cell_type": "code",
   "execution_count": 43,
   "id": "72e47bc3",
   "metadata": {},
   "outputs": [],
   "source": [
    "from google.cloud import bigquery\n",
    "from pandas_gbq import to_gbq"
   ]
  },
  {
   "cell_type": "code",
   "execution_count": 44,
   "id": "c149e2ef",
   "metadata": {},
   "outputs": [],
   "source": [
    "project_id='store-analysis-399009'\n",
    "dataset_id='etl_clothing'\n",
    "table_id='product_details'"
   ]
  },
  {
   "cell_type": "code",
   "execution_count": 46,
   "id": "ca450088",
   "metadata": {},
   "outputs": [
    {
     "name": "stderr",
     "output_type": "stream",
     "text": [
      "100%|██████████████████████████████████████████████████████████████████████████████████| 1/1 [00:00<00:00, 1000.79it/s]\n"
     ]
    }
   ],
   "source": [
    "to_gbq(product_details, destination_table=f\"{project_id}.{dataset_id}.{table_id}\", project_id=project_id, if_exists='replace')"
   ]
  },
  {
   "cell_type": "code",
   "execution_count": null,
   "id": "cb4b587c",
   "metadata": {},
   "outputs": [],
   "source": [
    "project_id='store-analysis-399009'\n",
    "dataset_id='etl_clothing'\n",
    "table_id='product_hierarchy'"
   ]
  },
  {
   "cell_type": "code",
   "execution_count": 47,
   "id": "930d9f8e",
   "metadata": {},
   "outputs": [
    {
     "name": "stderr",
     "output_type": "stream",
     "text": [
      "100%|████████████████████████████████████████████████████████████████████████████████████████████| 1/1 [00:00<?, ?it/s]\n"
     ]
    }
   ],
   "source": [
    "to_gbq(product_hierarchy, destination_table=f\"{project_id}.{dataset_id}.{table_id}\", project_id=project_id, if_exists='replace')"
   ]
  },
  {
   "cell_type": "code",
   "execution_count": 48,
   "id": "f76b8edc",
   "metadata": {},
   "outputs": [],
   "source": [
    "project_id='store-analysis-399009'\n",
    "dataset_id='etl_clothing'\n",
    "table_id='product_prices'"
   ]
  },
  {
   "cell_type": "code",
   "execution_count": 49,
   "id": "4ac9df70",
   "metadata": {},
   "outputs": [
    {
     "name": "stderr",
     "output_type": "stream",
     "text": [
      "100%|██████████████████████████████████████████████████████████████████████████████████| 1/1 [00:00<00:00, 1002.94it/s]\n"
     ]
    }
   ],
   "source": [
    "to_gbq(product_prices, destination_table=f\"{project_id}.{dataset_id}.{table_id}\", project_id=project_id, if_exists='replace')"
   ]
  },
  {
   "cell_type": "code",
   "execution_count": 51,
   "id": "81164aad",
   "metadata": {},
   "outputs": [],
   "source": [
    "project_id='store-analysis-399009'\n",
    "dataset_id='etl_clothing'\n",
    "table_id='sales'"
   ]
  },
  {
   "cell_type": "code",
   "execution_count": 52,
   "id": "b369832b",
   "metadata": {},
   "outputs": [
    {
     "name": "stderr",
     "output_type": "stream",
     "text": [
      "100%|████████████████████████████████████████████████████████████████████████████████████████████| 1/1 [00:00<?, ?it/s]\n"
     ]
    }
   ],
   "source": [
    "to_gbq(sales, destination_table=f\"{project_id}.{dataset_id}.{table_id}\", project_id=project_id, if_exists='replace')"
   ]
  },
  {
   "cell_type": "code",
   "execution_count": null,
   "id": "d152ca02",
   "metadata": {},
   "outputs": [],
   "source": []
  }
 ],
 "metadata": {
  "kernelspec": {
   "display_name": "Python 3 (ipykernel)",
   "language": "python",
   "name": "python3"
  },
  "language_info": {
   "codemirror_mode": {
    "name": "ipython",
    "version": 3
   },
   "file_extension": ".py",
   "mimetype": "text/x-python",
   "name": "python",
   "nbconvert_exporter": "python",
   "pygments_lexer": "ipython3",
   "version": "3.9.7"
  }
 },
 "nbformat": 4,
 "nbformat_minor": 5
}
